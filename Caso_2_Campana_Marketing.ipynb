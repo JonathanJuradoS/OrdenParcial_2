{
 "cells": [
  {
   "cell_type": "markdown",
   "id": "131f596f",
   "metadata": {},
   "source": [
    "# Caso 2: Campaña de Marketing Digital\n",
    "\n",
    "Este caso describe la coordinación de una campaña digital, con tareas dependientes como diseño, copywriting, revisión legal y publicación."
   ]
  },
  {
   "cell_type": "markdown",
   "id": "3f035fdb",
   "metadata": {},
   "source": [
    "## 1. Cargar librerías necesarias"
   ]
  },
  {
   "cell_type": "code",
   "execution_count": null,
   "id": "e22813b7",
   "metadata": {},
   "outputs": [],
   "source": [
    "import pandas as pd\n",
    "import matplotlib.pyplot as plt\n",
    "import networkx as nx\n",
    "import seaborn as sns"
   ]
  },
  {
   "cell_type": "markdown",
   "id": "a01e4db2",
   "metadata": {},
   "source": [
    "## 2. Cargar dataset"
   ]
  },
  {
   "cell_type": "code",
   "execution_count": null,
   "id": "695006d0",
   "metadata": {},
   "outputs": [],
   "source": [
    "df = pd.read_csv('/content/campana_marketing.csv')\n",
    "df.head()"
   ]
  },
  {
   "cell_type": "markdown",
   "id": "6dff9cad",
   "metadata": {},
   "source": [
    "## 3. Exploración de datos"
   ]
  },
  {
   "cell_type": "code",
   "execution_count": null,
   "id": "81d8f51b",
   "metadata": {},
   "outputs": [],
   "source": [
    "df.info()"
   ]
  },
  {
   "cell_type": "code",
   "execution_count": null,
   "id": "5003a271",
   "metadata": {},
   "outputs": [],
   "source": [
    "df.describe(include='all')"
   ]
  },
  {
   "cell_type": "markdown",
   "id": "f1586741",
   "metadata": {},
   "source": [
    "### Frecuencia de acciones"
   ]
  },
  {
   "cell_type": "code",
   "execution_count": null,
   "id": "d8b9f49a",
   "metadata": {},
   "outputs": [],
   "source": [
    "plt.figure(figsize=(10,5))\n",
    "df['Acción'].value_counts().plot(kind='bar', color='skyblue')\n",
    "plt.title('Frecuencia de Acciones')\n",
    "plt.ylabel('Cantidad')\n",
    "plt.xticks(rotation=45)\n",
    "plt.tight_layout()\n",
    "plt.show()"
   ]
  },
  {
   "cell_type": "markdown",
   "id": "fe6ef3b5",
   "metadata": {},
   "source": [
    "## 4. Aplicar algoritmo de planificación de orden parcial\n",
    "\n",
    "La planificación de orden parcial permite representar las tareas como nodos y sus relaciones de precedencia como aristas. Esto permite ejecutar tareas en paralelo si no tienen restricciones directas entre ellas."
   ]
  },
  {
   "cell_type": "code",
   "execution_count": null,
   "id": "98282b69",
   "metadata": {},
   "outputs": [],
   "source": [
    "G = nx.DiGraph()\n",
    "\n",
    "acciones = df['Acción'].unique()\n",
    "for accion in acciones:\n",
    "    G.add_node(accion)\n",
    "\n",
    "for i, row in df.iterrows():\n",
    "    origen = row.get('Acción_previa') or row.get('Acción_dependiente') or row.get('Acción_antes') or row.get('Acción_predecesora') or row.get('Acción_requerida')\n",
    "    destino = row['Acción']\n",
    "    if origen != destino:\n",
    "        G.add_edge(origen, destino)"
   ]
  },
  {
   "cell_type": "markdown",
   "id": "25c34956",
   "metadata": {},
   "source": [
    "### Visualización del grafo de precedencias"
   ]
  },
  {
   "cell_type": "code",
   "execution_count": null,
   "id": "bed75ee5",
   "metadata": {},
   "outputs": [],
   "source": [
    "plt.figure(figsize=(12,8))\n",
    "pos = nx.spring_layout(G, seed=42)\n",
    "nx.draw(G, pos, with_labels=True, node_color='lightgreen', node_size=2000, font_size=10, arrowsize=20)\n",
    "plt.title('Grafo de Planificación de Orden Parcial')\n",
    "plt.show()"
   ]
  },
  {
   "cell_type": "markdown",
   "id": "f4bc5363",
   "metadata": {},
   "source": [
    "### Generación de un plan parcial válido\n",
    "\n",
    "Utilizamos ordenamiento topológico para generar una secuencia válida de ejecución respetando las restricciones."
   ]
  },
  {
   "cell_type": "code",
   "execution_count": null,
   "id": "c33baff8",
   "metadata": {},
   "outputs": [],
   "source": [
    "if nx.is_directed_acyclic_graph(G):\n",
    "    plan = list(nx.topological_sort(G))\n",
    "    print('Plan parcial válido:')\n",
    "    for i, paso in enumerate(plan):\n",
    "        print(f'{i+1}. {paso}')\n",
    "else:\n",
    "    print('El grafo tiene ciclos, no es posible generar un plan parcial válido.')"
   ]
  },
  {
   "cell_type": "markdown",
   "id": "645b58e1",
   "metadata": {},
   "source": [
    "## 5. Conclusión\n",
    "\n",
    "¿Cómo se puede estructurar una campaña eficaz considerando las dependencias entre actividades?\n",
    "\n",
    "Gracias al uso del grafo y el ordenamiento topológico, se puede organizar un plan flexible que respete las restricciones de precedencia. Esto facilita la toma de decisiones en entornos reales donde no todas las tareas siguen una secuencia lineal."
   ]
  }
 ],
 "metadata": {},
 "nbformat": 4,
 "nbformat_minor": 5
}