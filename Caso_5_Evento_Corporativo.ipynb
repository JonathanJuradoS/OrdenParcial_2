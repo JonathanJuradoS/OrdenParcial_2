{
 "cells": [
  {
   "cell_type": "markdown",
   "id": "67c2ff4a",
   "metadata": {},
   "source": [
    "# Caso 5: Organización de Evento Corporativo\n",
    "\n",
    "Este caso se enfoca en planificar un evento empresarial donde múltiples tareas se deben coordinar en paralelo respetando precedencias."
   ]
  },
  {
   "cell_type": "markdown",
   "id": "0a29a997",
   "metadata": {},
   "source": [
    "## 1. Cargar librerías necesarias"
   ]
  },
  {
   "cell_type": "code",
   "execution_count": null,
   "id": "b9c9d70e",
   "metadata": {},
   "outputs": [],
   "source": [
    "import pandas as pd\n",
    "import matplotlib.pyplot as plt\n",
    "import networkx as nx\n",
    "import seaborn as sns"
   ]
  },
  {
   "cell_type": "markdown",
   "id": "32341ca0",
   "metadata": {},
   "source": [
    "## 2. Cargar dataset"
   ]
  },
  {
   "cell_type": "code",
   "execution_count": null,
   "id": "121d0cb3",
   "metadata": {},
   "outputs": [],
   "source": [
    "df = pd.read_csv('/content/evento_corporativo.csv')\n",
    "df.head()"
   ]
  },
  {
   "cell_type": "markdown",
   "id": "1e5bb76f",
   "metadata": {},
   "source": [
    "## 3. Exploración de datos"
   ]
  },
  {
   "cell_type": "code",
   "execution_count": null,
   "id": "2d0356b6",
   "metadata": {},
   "outputs": [],
   "source": [
    "df.info()"
   ]
  },
  {
   "cell_type": "code",
   "execution_count": null,
   "id": "cd274652",
   "metadata": {},
   "outputs": [],
   "source": [
    "df.describe(include='all')"
   ]
  },
  {
   "cell_type": "markdown",
   "id": "1bd929f7",
   "metadata": {},
   "source": [
    "### Frecuencia de acciones"
   ]
  },
  {
   "cell_type": "code",
   "execution_count": null,
   "id": "bed7147e",
   "metadata": {},
   "outputs": [],
   "source": [
    "plt.figure(figsize=(10,5))\n",
    "df['Acción'].value_counts().plot(kind='bar', color='skyblue')\n",
    "plt.title('Frecuencia de Acciones')\n",
    "plt.ylabel('Cantidad')\n",
    "plt.xticks(rotation=45)\n",
    "plt.tight_layout()\n",
    "plt.show()"
   ]
  },
  {
   "cell_type": "markdown",
   "id": "dfc7886a",
   "metadata": {},
   "source": [
    "## 4. Aplicar algoritmo de planificación de orden parcial\n",
    "\n",
    "La planificación de orden parcial permite representar las tareas como nodos y sus relaciones de precedencia como aristas. Esto permite ejecutar tareas en paralelo si no tienen restricciones directas entre ellas."
   ]
  },
  {
   "cell_type": "code",
   "execution_count": null,
   "id": "9fdbf610",
   "metadata": {},
   "outputs": [],
   "source": [
    "G = nx.DiGraph()\n",
    "\n",
    "acciones = df['Acción'].unique()\n",
    "for accion in acciones:\n",
    "    G.add_node(accion)\n",
    "\n",
    "for i, row in df.iterrows():\n",
    "    origen = row.get('Acción_previa') or row.get('Acción_dependiente') or row.get('Acción_antes') or row.get('Acción_predecesora') or row.get('Acción_requerida')\n",
    "    destino = row['Acción']\n",
    "    if origen != destino:\n",
    "        G.add_edge(origen, destino)"
   ]
  },
  {
   "cell_type": "markdown",
   "id": "0fa9a86c",
   "metadata": {},
   "source": [
    "### Visualización del grafo de precedencias"
   ]
  },
  {
   "cell_type": "code",
   "execution_count": null,
   "id": "f086e931",
   "metadata": {},
   "outputs": [],
   "source": [
    "plt.figure(figsize=(12,8))\n",
    "pos = nx.spring_layout(G, seed=42)\n",
    "nx.draw(G, pos, with_labels=True, node_color='lightgreen', node_size=2000, font_size=10, arrowsize=20)\n",
    "plt.title('Grafo de Planificación de Orden Parcial')\n",
    "plt.show()"
   ]
  },
  {
   "cell_type": "markdown",
   "id": "5cd6c5c8",
   "metadata": {},
   "source": [
    "### Generación de un plan parcial válido\n",
    "\n",
    "Utilizamos ordenamiento topológico para generar una secuencia válida de ejecución respetando las restricciones."
   ]
  },
  {
   "cell_type": "code",
   "execution_count": null,
   "id": "b2d8b397",
   "metadata": {},
   "outputs": [],
   "source": [
    "if nx.is_directed_acyclic_graph(G):\n",
    "    plan = list(nx.topological_sort(G))\n",
    "    print('Plan parcial válido:')\n",
    "    for i, paso in enumerate(plan):\n",
    "        print(f'{i+1}. {paso}')\n",
    "else:\n",
    "    print('El grafo tiene ciclos, no es posible generar un plan parcial válido.')"
   ]
  },
  {
   "cell_type": "markdown",
   "id": "150aa066",
   "metadata": {},
   "source": [
    "## 5. Conclusión\n",
    "\n",
    "¿Qué secuencia de tareas permite una planificación eficiente y sin conflictos del evento?\n",
    "\n",
    "Gracias al uso del grafo y el ordenamiento topológico, se puede organizar un plan flexible que respete las restricciones de precedencia. Esto facilita la toma de decisiones en entornos reales donde no todas las tareas siguen una secuencia lineal."
   ]
  }
 ],
 "metadata": {},
 "nbformat": 4,
 "nbformat_minor": 5
}