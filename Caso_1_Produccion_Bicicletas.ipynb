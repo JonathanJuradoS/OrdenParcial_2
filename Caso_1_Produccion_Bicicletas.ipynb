{
 "cells": [
  {
   "cell_type": "markdown",
   "id": "2d1b4868",
   "metadata": {},
   "source": [
    "# Caso 1: Producción de Bicicletas\n",
    "\n",
    "Este caso simula la producción de bicicletas, donde varias tareas como ensamblaje, pintura y control de calidad deben coordinarse, considerando dependencias y restricciones de orden para optimizar el proceso."
   ]
  },
  {
   "cell_type": "markdown",
   "id": "189af1dc",
   "metadata": {},
   "source": [
    "## 1. Cargar librerías necesarias"
   ]
  },
  {
   "cell_type": "code",
   "execution_count": null,
   "id": "61b82e9c",
   "metadata": {},
   "outputs": [],
   "source": [
    "import pandas as pd\n",
    "import matplotlib.pyplot as plt\n",
    "import networkx as nx\n",
    "import seaborn as sns"
   ]
  },
  {
   "cell_type": "markdown",
   "id": "0ac19f72",
   "metadata": {},
   "source": [
    "## 2. Cargar dataset"
   ]
  },
  {
   "cell_type": "code",
   "execution_count": null,
   "id": "61cad030",
   "metadata": {},
   "outputs": [],
   "source": [
    "df = pd.read_csv('/content/produccion_bicicletas.csv')\n",
    "df.head()"
   ]
  },
  {
   "cell_type": "markdown",
   "id": "d32927ec",
   "metadata": {},
   "source": [
    "## 3. Exploración de datos"
   ]
  },
  {
   "cell_type": "code",
   "execution_count": null,
   "id": "d255848e",
   "metadata": {},
   "outputs": [],
   "source": [
    "df.info()"
   ]
  },
  {
   "cell_type": "code",
   "execution_count": null,
   "id": "7c93b8dc",
   "metadata": {},
   "outputs": [],
   "source": [
    "df.describe(include='all')"
   ]
  },
  {
   "cell_type": "markdown",
   "id": "215ba005",
   "metadata": {},
   "source": [
    "### Frecuencia de acciones"
   ]
  },
  {
   "cell_type": "code",
   "execution_count": null,
   "id": "31da2d4b",
   "metadata": {},
   "outputs": [],
   "source": [
    "plt.figure(figsize=(10,5))\n",
    "df['Acción'].value_counts().plot(kind='bar', color='skyblue')\n",
    "plt.title('Frecuencia de Acciones')\n",
    "plt.ylabel('Cantidad')\n",
    "plt.xticks(rotation=45)\n",
    "plt.tight_layout()\n",
    "plt.show()"
   ]
  },
  {
   "cell_type": "markdown",
   "id": "477c2fda",
   "metadata": {},
   "source": [
    "## 4. Aplicar algoritmo de planificación de orden parcial\n",
    "\n",
    "La planificación de orden parcial permite representar las tareas como nodos y sus relaciones de precedencia como aristas. Esto permite ejecutar tareas en paralelo si no tienen restricciones directas entre ellas."
   ]
  },
  {
   "cell_type": "code",
   "execution_count": null,
   "id": "77b237ce",
   "metadata": {},
   "outputs": [],
   "source": [
    "G = nx.DiGraph()\n",
    "\n",
    "acciones = df['Acción'].unique()\n",
    "for accion in acciones:\n",
    "    G.add_node(accion)\n",
    "\n",
    "for i, row in df.iterrows():\n",
    "    origen = row.get('Acción_previa') or row.get('Acción_dependiente') or row.get('Acción_antes') or row.get('Acción_predecesora') or row.get('Acción_requerida')\n",
    "    destino = row['Acción']\n",
    "    if origen != destino:\n",
    "        G.add_edge(origen, destino)"
   ]
  },
  {
   "cell_type": "markdown",
   "id": "383bf399",
   "metadata": {},
   "source": [
    "### Visualización del grafo de precedencias"
   ]
  },
  {
   "cell_type": "code",
   "execution_count": null,
   "id": "74b380b0",
   "metadata": {},
   "outputs": [],
   "source": [
    "plt.figure(figsize=(12,8))\n",
    "pos = nx.spring_layout(G, seed=42)\n",
    "nx.draw(G, pos, with_labels=True, node_color='lightgreen', node_size=2000, font_size=10, arrowsize=20)\n",
    "plt.title('Grafo de Planificación de Orden Parcial')\n",
    "plt.show()"
   ]
  },
  {
   "cell_type": "markdown",
   "id": "7193e713",
   "metadata": {},
   "source": [
    "### Generación de un plan parcial válido\n",
    "\n",
    "Utilizamos ordenamiento topológico para generar una secuencia válida de ejecución respetando las restricciones."
   ]
  },
  {
   "cell_type": "code",
   "execution_count": null,
   "id": "16add666",
   "metadata": {},
   "outputs": [],
   "source": [
    "if nx.is_directed_acyclic_graph(G):\n",
    "    plan = list(nx.topological_sort(G))\n",
    "    print('Plan parcial válido:')\n",
    "    for i, paso in enumerate(plan):\n",
    "        print(f'{i+1}. {paso}')\n",
    "else:\n",
    "    print('El grafo tiene ciclos, no es posible generar un plan parcial válido.')"
   ]
  },
  {
   "cell_type": "markdown",
   "id": "8c9cb0e1",
   "metadata": {},
   "source": [
    "## 5. Conclusión\n",
    "\n",
    "¿Cuál sería el orden más flexible y óptimo para asegurar una producción eficiente?\n",
    "\n",
    "Gracias al uso del grafo y el ordenamiento topológico, se puede organizar un plan flexible que respete las restricciones de precedencia. Esto facilita la toma de decisiones en entornos reales donde no todas las tareas siguen una secuencia lineal."
   ]
  }
 ],
 "metadata": {},
 "nbformat": 4,
 "nbformat_minor": 5
}