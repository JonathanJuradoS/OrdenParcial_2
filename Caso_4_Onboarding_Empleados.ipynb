{
 "cells": [
  {
   "cell_type": "markdown",
   "id": "be03839b",
   "metadata": {},
   "source": [
    "# Caso 4: Onboarding de Empleados\n",
    "\n",
    "El proceso de onboarding de empleados involucra varias acciones interdependientes, como firma de contrato, activación de cuentas e inducción."
   ]
  },
  {
   "cell_type": "markdown",
   "id": "a7f78e2c",
   "metadata": {},
   "source": [
    "## 1. Cargar librerías necesarias"
   ]
  },
  {
   "cell_type": "code",
   "execution_count": null,
   "id": "23feb5f0",
   "metadata": {},
   "outputs": [],
   "source": [
    "import pandas as pd\n",
    "import matplotlib.pyplot as plt\n",
    "import networkx as nx\n",
    "import seaborn as sns"
   ]
  },
  {
   "cell_type": "markdown",
   "id": "e1d5cab7",
   "metadata": {},
   "source": [
    "## 2. Cargar dataset"
   ]
  },
  {
   "cell_type": "code",
   "execution_count": null,
   "id": "cc97a794",
   "metadata": {},
   "outputs": [],
   "source": [
    "df = pd.read_csv('/content/onboarding_empleados.csv')\n",
    "df.head()"
   ]
  },
  {
   "cell_type": "markdown",
   "id": "78554c08",
   "metadata": {},
   "source": [
    "## 3. Exploración de datos"
   ]
  },
  {
   "cell_type": "code",
   "execution_count": null,
   "id": "fb6c373b",
   "metadata": {},
   "outputs": [],
   "source": [
    "df.info()"
   ]
  },
  {
   "cell_type": "code",
   "execution_count": null,
   "id": "71c3bfa2",
   "metadata": {},
   "outputs": [],
   "source": [
    "df.describe(include='all')"
   ]
  },
  {
   "cell_type": "markdown",
   "id": "e75f7576",
   "metadata": {},
   "source": [
    "### Frecuencia de acciones"
   ]
  },
  {
   "cell_type": "code",
   "execution_count": null,
   "id": "a2af7fb9",
   "metadata": {},
   "outputs": [],
   "source": [
    "plt.figure(figsize=(10,5))\n",
    "df['Acción'].value_counts().plot(kind='bar', color='skyblue')\n",
    "plt.title('Frecuencia de Acciones')\n",
    "plt.ylabel('Cantidad')\n",
    "plt.xticks(rotation=45)\n",
    "plt.tight_layout()\n",
    "plt.show()"
   ]
  },
  {
   "cell_type": "markdown",
   "id": "9b9b6942",
   "metadata": {},
   "source": [
    "## 4. Aplicar algoritmo de planificación de orden parcial\n",
    "\n",
    "La planificación de orden parcial permite representar las tareas como nodos y sus relaciones de precedencia como aristas. Esto permite ejecutar tareas en paralelo si no tienen restricciones directas entre ellas."
   ]
  },
  {
   "cell_type": "code",
   "execution_count": null,
   "id": "d48be79c",
   "metadata": {},
   "outputs": [],
   "source": [
    "G = nx.DiGraph()\n",
    "\n",
    "acciones = df['Acción'].unique()\n",
    "for accion in acciones:\n",
    "    G.add_node(accion)\n",
    "\n",
    "for i, row in df.iterrows():\n",
    "    origen = row.get('Acción_previa') or row.get('Acción_dependiente') or row.get('Acción_antes') or row.get('Acción_predecesora') or row.get('Acción_requerida')\n",
    "    destino = row['Acción']\n",
    "    if origen != destino:\n",
    "        G.add_edge(origen, destino)"
   ]
  },
  {
   "cell_type": "markdown",
   "id": "3f5bd1a9",
   "metadata": {},
   "source": [
    "### Visualización del grafo de precedencias"
   ]
  },
  {
   "cell_type": "code",
   "execution_count": null,
   "id": "cff49507",
   "metadata": {},
   "outputs": [],
   "source": [
    "plt.figure(figsize=(12,8))\n",
    "pos = nx.spring_layout(G, seed=42)\n",
    "nx.draw(G, pos, with_labels=True, node_color='lightgreen', node_size=2000, font_size=10, arrowsize=20)\n",
    "plt.title('Grafo de Planificación de Orden Parcial')\n",
    "plt.show()"
   ]
  },
  {
   "cell_type": "markdown",
   "id": "c434a8ec",
   "metadata": {},
   "source": [
    "### Generación de un plan parcial válido\n",
    "\n",
    "Utilizamos ordenamiento topológico para generar una secuencia válida de ejecución respetando las restricciones."
   ]
  },
  {
   "cell_type": "code",
   "execution_count": null,
   "id": "7696d772",
   "metadata": {},
   "outputs": [],
   "source": [
    "if nx.is_directed_acyclic_graph(G):\n",
    "    plan = list(nx.topological_sort(G))\n",
    "    print('Plan parcial válido:')\n",
    "    for i, paso in enumerate(plan):\n",
    "        print(f'{i+1}. {paso}')\n",
    "else:\n",
    "    print('El grafo tiene ciclos, no es posible generar un plan parcial válido.')"
   ]
  },
  {
   "cell_type": "markdown",
   "id": "f5bf6563",
   "metadata": {},
   "source": [
    "## 5. Conclusión\n",
    "\n",
    "¿Qué tareas deben realizarse primero para asegurar un proceso de integración exitoso?\n",
    "\n",
    "Gracias al uso del grafo y el ordenamiento topológico, se puede organizar un plan flexible que respete las restricciones de precedencia. Esto facilita la toma de decisiones en entornos reales donde no todas las tareas siguen una secuencia lineal."
   ]
  }
 ],
 "metadata": {},
 "nbformat": 4,
 "nbformat_minor": 5
}